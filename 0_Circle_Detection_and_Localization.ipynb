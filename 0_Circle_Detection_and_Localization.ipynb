{
  "cells": [
    {
      "cell_type": "markdown",
      "metadata": {
        "colab_type": "text",
        "id": "view-in-github"
      },
      "source": [
        "<a href=\"https://colab.research.google.com/github/SaadOjo/Circle-Detection/blob/main/Circle_Detection_and_Localization.ipynb\" target=\"_parent\"><img src=\"https://colab.research.google.com/assets/colab-badge.svg\" alt=\"Open In Colab\"/></a>"
      ]
    },
    {
      "cell_type": "code",
      "execution_count": 1,
      "metadata": {
        "id": "11CIXz_l7O1U"
      },
      "outputs": [],
      "source": [
        "import numpy as np\n",
        "import tensorflow as tf\n",
        "from tensorflow import keras\n",
        "import matplotlib.pyplot as plt\n",
        "import cv2"
      ]
    },
    {
      "cell_type": "code",
      "execution_count": 2,
      "metadata": {
        "id": "yELBnZ0q9WZq"
      },
      "outputs": [],
      "source": [
        "def add_square(img, center, width):\n",
        "  start_point = (center[0]-width, center[1]-width)\n",
        "  end_point   = (center[0]+width, center[1]+width)\n",
        "  cv2.rectangle(img, start_point, end_point, random_color(),cv2.FILLED)"
      ]
    },
    {
      "cell_type": "code",
      "execution_count": 47,
      "metadata": {
        "id": "VeV5Q1ky7izq"
      },
      "outputs": [],
      "source": [
        "def create_data_sample(num_shapes, height, width):\n",
        "  img = np.zeros((height, width, 3))\n",
        "  label = np.zeros((height, width, 1))\n",
        "  for _ in range(num_shapes):\n",
        "    x = int(np.random.rand()*width)\n",
        "    y = int(np.random.rand()*height)\n",
        "    if np.random.rand() > 0.5:\n",
        "      cv2.circle(img, (x,y), int(np.ceil(width*0.05)), random_color(), cv2.FILLED)\n",
        "      cv2.circle(label, (x,y), int(1), (1,1,1), cv2.FILLED)\n",
        "    else: \n",
        "      add_square(img, (x,y), int(np.ceil(width*0.05*0.7)))\n",
        "  return img, label\n"
      ]
    },
    {
      "cell_type": "code",
      "execution_count": 4,
      "metadata": {
        "id": "ahEDuTw_uelA"
      },
      "outputs": [],
      "source": [
        "def test_batch(num_shapes, height, width):\n",
        "  img, label = create_data_sample(num_shapes, height, width)\n",
        "  return np.expand_dims(img,0), np.expand_dims(label,0)"
      ]
    },
    {
      "cell_type": "code",
      "execution_count": 5,
      "metadata": {
        "id": "DcjI2eH1HDql"
      },
      "outputs": [],
      "source": [
        "def grayscale_image(img):\n",
        "  return np.expand_dims((img[:,:,0] + img[:,:,1] + img[:,:,2])/3,2)"
      ]
    },
    {
      "cell_type": "code",
      "execution_count": 6,
      "metadata": {
        "id": "Fe5pV5xu-2XS"
      },
      "outputs": [],
      "source": [
        "# (128,128,1) --> (128,128,3)\n",
        "def to_three_channels(img):\n",
        "  return np.squeeze(np.stack((img,img,img), 2))"
      ]
    },
    {
      "cell_type": "code",
      "execution_count": 7,
      "metadata": {
        "id": "i0a9CpWHS5wc"
      },
      "outputs": [],
      "source": [
        "def random_color():\n",
        "  return np.random.rand(3)"
      ]
    },
    {
      "cell_type": "code",
      "execution_count": 8,
      "metadata": {
        "id": "6e-JcGdI8jn7"
      },
      "outputs": [],
      "source": [
        "def show_sample(img, label):\n",
        "  figure, axis = plt.subplots(1,2)\n",
        "  axis[0].imshow(img)\n",
        "  axis[1].imshow(to_three_channels(label))"
      ]
    },
    {
      "cell_type": "code",
      "execution_count": 9,
      "metadata": {
        "id": "ezsg3vRxEePg"
      },
      "outputs": [],
      "source": [
        "def show_batch(img, label):\n",
        "  show_sample(img[0,:,:,:],label[0,:,:,:])"
      ]
    },
    {
      "cell_type": "code",
      "execution_count": 48,
      "metadata": {
        "colab": {
          "base_uri": "https://localhost:8080/",
          "height": 203
        },
        "id": "_NMRH77R8t_Z",
        "outputId": "c010d3bd-9f47-4f13-e088-99eb43c5c610"
      },
      "outputs": [
        {
          "data": {
            "image/png": "[encoded data removed]",
            "text/plain": [
              "<Figure size 432x288 with 2 Axes>"
            ]
          },
          "metadata": {
            "needs_background": "light"
          },
          "output_type": "display_data"
        }
      ],
      "source": [
        "img_shape = (128,128,3)\n",
        "img, label = create_data_sample(5, img_shape[0], img_shape[1])\n",
        "show_sample(img, label)"
      ]
    },
    {
      "cell_type": "code",
      "execution_count": 49,
      "metadata": {
        "colab": {
          "base_uri": "https://localhost:8080/",
          "height": 221
        },
        "id": "4VU7X3wKE06e",
        "outputId": "9fd894ac-b35a-4efe-f324-998f35acddb8"
      },
      "outputs": [
        {
          "name": "stdout",
          "output_type": "stream",
          "text": [
            "(1, 128, 128, 3) (1, 128, 128, 1)\n"
          ]
        },
        {
          "data": {
            "image/png": "[encoded data removed]",
            "text/plain": [
              "<Figure size 432x288 with 2 Axes>"
            ]
          },
          "metadata": {
            "needs_background": "light"
          },
          "output_type": "display_data"
        }
      ],
      "source": [
        "img, label = test_batch(10, img_shape[0], img_shape[1])\n",
        "print(img.shape, label.shape)\n",
        "show_batch(img, label)"
      ]
    },
    {
      "cell_type": "code",
      "execution_count": 50,
      "metadata": {
        "colab": {
          "base_uri": "https://localhost:8080/",
          "height": 364
        },
        "id": "LuT2wrG_FMO-",
        "outputId": "7b351e83-2548-499e-8b53-91923a394a54"
      },
      "outputs": [
        {
          "name": "stdout",
          "output_type": "stream",
          "text": [
            "Model: \"model_4\"\n",
            "_________________________________________________________________\n",
            "Layer (type)                 Output Shape              Param #   \n",
            "=================================================================\n",
            "input_5 (InputLayer)         [(None, 128, 128, 3)]     0         \n",
            "_________________________________________________________________\n",
            "conv2d_12 (Conv2D)           (None, 128, 128, 16)      1216      \n",
            "_________________________________________________________________\n",
            "batch_normalization_8 (Batch (None, 128, 128, 16)      64        \n",
            "_________________________________________________________________\n",
            "conv2d_13 (Conv2D)           (None, 128, 128, 32)      12832     \n",
            "_________________________________________________________________\n",
            "batch_normalization_9 (Batch (None, 128, 128, 32)      128       \n",
            "_________________________________________________________________\n",
            "conv2d_14 (Conv2D)           (None, 128, 128, 2)       1602      \n",
            "=================================================================\n",
            "Total params: 15,842\n",
            "Trainable params: 15,746\n",
            "Non-trainable params: 96\n",
            "_________________________________________________________________\n"
          ]
        }
      ],
      "source": [
        "l2 = None\n",
        "inputs = keras.Input(shape=img_shape)\n",
        "conv1 = keras.layers.Conv2D(16,5,padding='same',activation='relu',kernel_initializer='glorot_normal',kernel_regularizer=l2)(inputs)\n",
        "conv1 = keras.layers.BatchNormalization(momentum=0.99)(conv1)\n",
        "conv2 = keras.layers.Conv2D(32,5,padding='same',activation='relu',kernel_initializer='glorot_normal',kernel_regularizer=l2)(conv1)\n",
        "conv2 = keras.layers.BatchNormalization(momentum=0.99)(conv2)\n",
        "outputs = keras.layers.Conv2D(2,5,padding='same',activation='softmax',kernel_initializer='glorot_normal',kernel_regularizer=l2)(conv2)\n",
        "model = keras.Model(inputs=inputs, outputs=outputs)\n",
        "model.summary()"
      ]
    },
    {
      "cell_type": "code",
      "execution_count": 65,
      "metadata": {
        "id": "ti1MlFfMlZEj"
      },
      "outputs": [],
      "source": [
        "x_list = []\n",
        "y_list = []\n",
        "for i in range(1000):\n",
        "  x,y  = create_data_sample(10, img_shape[0], img_shape[1])\n",
        "  x_list.append(x)\n",
        "  y_list.append(y)\n",
        "x_list = np.array(x_list)\n",
        "y_list = np.array(y_list)"
      ]
    },
    {
      "cell_type": "code",
      "execution_count": 52,
      "metadata": {
        "colab": {
          "base_uri": "https://localhost:8080/",
          "height": 203
        },
        "id": "odlwwBD_oCvQ",
        "outputId": "01be0be8-5fb9-4a28-dbe0-2c2a2f6b8181"
      },
      "outputs": [
        {
          "data": {
            "image/png": "[encoded data removed]",
            "text/plain": [
              "<Figure size 432x288 with 2 Axes>"
            ]
          },
          "metadata": {
            "needs_background": "light"
          },
          "output_type": "display_data"
        }
      ],
      "source": [
        "i = 3\n",
        "show_sample(x_list[i], y_list[i])"
      ]
    },
    {
      "cell_type": "code",
      "execution_count": 53,
      "metadata": {
        "colab": {
          "base_uri": "https://localhost:8080/",
          "height": 35
        },
        "id": "9XgarLrmmKRi",
        "outputId": "eaca3d26-8a66-44f1-c513-85c38d860292"
      },
      "outputs": [
        {
          "data": {
            "text/plain": [
              "(1000, 128, 128, 3)"
            ]
          },
          "execution_count": 53,
          "metadata": {},
          "output_type": "execute_result"
        }
      ],
      "source": [
        "x_list.shape"
      ]
    },
    {
      "cell_type": "code",
      "execution_count": 59,
      "metadata": {
        "id": "odXTQBu6GPKO"
      },
      "outputs": [],
      "source": [
        "def loss_function(y_true, y_pred):\n",
        "  squared_diff = tf.square(y_true - y_pred)\n",
        "  return tf.reduce_mean(squared_diff)\n",
        "\n",
        "loss1 = 'mae'\n",
        "loss2 = 'mse'\n",
        "loss3 = keras.losses.SparseCategoricalCrossentropy()\n",
        "opt = keras.optimizers.Adam(learning_rate=1e-4)\n",
        "model.compile(optimizer=opt,loss=loss3)"
      ]
    },
    {
      "cell_type": "code",
      "execution_count": 60,
      "metadata": {
        "colab": {
          "base_uri": "https://localhost:8080/",
          "height": 1000
        },
        "id": "ruf3_HvEGJyA",
        "outputId": "26fb4da8-e38a-4eba-ecfa-d26e4d780434"
      },
      "outputs": [
        {
          "name": "stdout",
          "output_type": "stream",
          "text": [
            "Epoch 1/100\n",
            "10/10 [==============================] - 1s 47ms/step - loss: 0.0502\n",
            "Epoch 2/100\n",
            "10/10 [==============================] - 0s 45ms/step - loss: 0.0458\n",
            "Epoch 3/100\n",
            "10/10 [==============================] - 0s 46ms/step - loss: 0.0418\n",
            "Epoch 4/100\n",
            "10/10 [==============================] - 0s 45ms/step - loss: 0.0381\n",
            "Epoch 5/100\n",
            "10/10 [==============================] - 0s 45ms/step - loss: 0.0348\n",
            "Epoch 6/100\n",
            "10/10 [==============================] - 0s 45ms/step - loss: 0.0318\n",
            "Epoch 7/100\n",
            "10/10 [==============================] - 0s 44ms/step - loss: 0.0291\n",
            "Epoch 8/100\n",
            "10/10 [==============================] - 0s 45ms/step - loss: 0.0267\n",
            "Epoch 9/100\n",
            "10/10 [==============================] - 0s 45ms/step - loss: 0.0245\n",
            "Epoch 10/100\n",
            "10/10 [==============================] - 0s 44ms/step - loss: 0.0226\n",
            "Epoch 11/100\n",
            "10/10 [==============================] - 0s 45ms/step - loss: 0.0209\n",
            "Epoch 12/100\n",
            "10/10 [==============================] - 0s 46ms/step - loss: 0.0194\n",
            "Epoch 13/100\n",
            "10/10 [==============================] - 0s 45ms/step - loss: 0.0180\n",
            "Epoch 14/100\n",
            "10/10 [==============================] - 0s 45ms/step - loss: 0.0168\n",
            "Epoch 15/100\n",
            "10/10 [==============================] - 0s 45ms/step - loss: 0.0157\n",
            "Epoch 16/100\n",
            "10/10 [==============================] - 0s 45ms/step - loss: 0.0147\n",
            "Epoch 17/100\n",
            "10/10 [==============================] - 0s 46ms/step - loss: 0.0138\n",
            "Epoch 18/100\n",
            "10/10 [==============================] - 0s 45ms/step - loss: 0.0130\n",
            "Epoch 19/100\n",
            "10/10 [==============================] - 0s 45ms/step - loss: 0.0122\n",
            "Epoch 20/100\n",
            "10/10 [==============================] - 0s 45ms/step - loss: 0.0115\n",
            "Epoch 21/100\n",
            "10/10 [==============================] - 0s 45ms/step - loss: 0.0109\n",
            "Epoch 22/100\n",
            "10/10 [==============================] - 0s 44ms/step - loss: 0.0104\n",
            "Epoch 23/100\n",
            "10/10 [==============================] - 0s 45ms/step - loss: 0.0098\n",
            "Epoch 24/100\n",
            "10/10 [==============================] - 0s 45ms/step - loss: 0.0093\n",
            "Epoch 25/100\n",
            "10/10 [==============================] - 0s 46ms/step - loss: 0.0089\n",
            "Epoch 26/100\n",
            "10/10 [==============================] - 0s 44ms/step - loss: 0.0085\n",
            "Epoch 27/100\n",
            "10/10 [==============================] - 0s 45ms/step - loss: 0.0081\n",
            "Epoch 28/100\n",
            "10/10 [==============================] - 0s 45ms/step - loss: 0.0077\n",
            "Epoch 29/100\n",
            "10/10 [==============================] - 0s 44ms/step - loss: 0.0074\n",
            "Epoch 30/100\n",
            "10/10 [==============================] - 0s 46ms/step - loss: 0.0071\n",
            "Epoch 31/100\n",
            "10/10 [==============================] - 0s 46ms/step - loss: 0.0068\n",
            "Epoch 32/100\n",
            "10/10 [==============================] - 0s 44ms/step - loss: 0.0065\n",
            "Epoch 33/100\n",
            "10/10 [==============================] - 0s 45ms/step - loss: 0.0063\n",
            "Epoch 34/100\n",
            "10/10 [==============================] - 0s 46ms/step - loss: 0.0060\n",
            "Epoch 35/100\n",
            "10/10 [==============================] - 0s 45ms/step - loss: 0.0058\n",
            "Epoch 36/100\n",
            "10/10 [==============================] - 0s 44ms/step - loss: 0.0056\n",
            "Epoch 37/100\n",
            "10/10 [==============================] - 0s 45ms/step - loss: 0.0054\n",
            "Epoch 38/100\n",
            "10/10 [==============================] - 0s 45ms/step - loss: 0.0052\n",
            "Epoch 39/100\n",
            "10/10 [==============================] - 0s 46ms/step - loss: 0.0050\n",
            "Epoch 40/100\n",
            "10/10 [==============================] - 0s 45ms/step - loss: 0.0048\n",
            "Epoch 41/100\n",
            "10/10 [==============================] - 0s 45ms/step - loss: 0.0047\n",
            "Epoch 42/100\n",
            "10/10 [==============================] - 0s 45ms/step - loss: 0.0045\n",
            "Epoch 43/100\n",
            "10/10 [==============================] - 0s 45ms/step - loss: 0.0044\n",
            "Epoch 44/100\n",
            "10/10 [==============================] - 0s 45ms/step - loss: 0.0043\n",
            "Epoch 45/100\n",
            "10/10 [==============================] - 0s 45ms/step - loss: 0.0041\n",
            "Epoch 46/100\n",
            "10/10 [==============================] - 0s 44ms/step - loss: 0.0040\n",
            "Epoch 47/100\n",
            "10/10 [==============================] - 0s 44ms/step - loss: 0.0039\n",
            "Epoch 48/100\n",
            "10/10 [==============================] - 0s 45ms/step - loss: 0.0038\n",
            "Epoch 49/100\n",
            "10/10 [==============================] - 0s 45ms/step - loss: 0.0037\n",
            "Epoch 50/100\n",
            "10/10 [==============================] - 0s 45ms/step - loss: 0.0036\n",
            "Epoch 51/100\n",
            "10/10 [==============================] - 0s 46ms/step - loss: 0.0035\n",
            "Epoch 52/100\n",
            "10/10 [==============================] - 0s 46ms/step - loss: 0.0034\n",
            "Epoch 53/100\n",
            "10/10 [==============================] - 0s 45ms/step - loss: 0.0033\n",
            "Epoch 54/100\n",
            "10/10 [==============================] - 0s 45ms/step - loss: 0.0032\n",
            "Epoch 55/100\n",
            "10/10 [==============================] - 0s 45ms/step - loss: 0.0031\n",
            "Epoch 56/100\n",
            "10/10 [==============================] - 0s 45ms/step - loss: 0.0030\n",
            "Epoch 57/100\n",
            "10/10 [==============================] - 0s 45ms/step - loss: 0.0030\n",
            "Epoch 58/100\n",
            "10/10 [==============================] - 0s 45ms/step - loss: 0.0029\n",
            "Epoch 59/100\n",
            "10/10 [==============================] - 0s 45ms/step - loss: 0.0028\n",
            "Epoch 60/100\n",
            "10/10 [==============================] - 0s 46ms/step - loss: 0.0027\n",
            "Epoch 61/100\n",
            "10/10 [==============================] - 0s 45ms/step - loss: 0.0027\n",
            "Epoch 62/100\n",
            "10/10 [==============================] - 0s 45ms/step - loss: 0.0026\n",
            "Epoch 63/100\n",
            "10/10 [==============================] - 0s 45ms/step - loss: 0.0026\n",
            "Epoch 64/100\n",
            "10/10 [==============================] - 0s 45ms/step - loss: 0.0025\n",
            "Epoch 65/100\n",
            "10/10 [==============================] - 0s 45ms/step - loss: 0.0024\n",
            "Epoch 66/100\n",
            "10/10 [==============================] - 0s 45ms/step - loss: 0.0024\n",
            "Epoch 67/100\n",
            "10/10 [==============================] - 0s 45ms/step - loss: 0.0024\n",
            "Epoch 68/100\n",
            "10/10 [==============================] - 0s 45ms/step - loss: 0.0023\n",
            "Epoch 69/100\n",
            "10/10 [==============================] - 0s 45ms/step - loss: 0.0022\n",
            "Epoch 70/100\n",
            "10/10 [==============================] - 0s 45ms/step - loss: 0.0022\n",
            "Epoch 71/100\n",
            "10/10 [==============================] - 0s 46ms/step - loss: 0.0022\n",
            "Epoch 72/100\n",
            "10/10 [==============================] - 0s 44ms/step - loss: 0.0021\n",
            "Epoch 73/100\n",
            "10/10 [==============================] - 0s 45ms/step - loss: 0.0021\n",
            "Epoch 74/100\n",
            "10/10 [==============================] - 0s 44ms/step - loss: 0.0020\n",
            "Epoch 75/100\n",
            "10/10 [==============================] - 0s 44ms/step - loss: 0.0020\n",
            "Epoch 76/100\n",
            "10/10 [==============================] - 0s 45ms/step - loss: 0.0020\n",
            "Epoch 77/100\n",
            "10/10 [==============================] - 0s 45ms/step - loss: 0.0019\n",
            "Epoch 78/100\n",
            "10/10 [==============================] - 0s 45ms/step - loss: 0.0019\n",
            "Epoch 79/100\n",
            "10/10 [==============================] - 0s 45ms/step - loss: 0.0018\n",
            "Epoch 80/100\n",
            "10/10 [==============================] - 0s 46ms/step - loss: 0.0018\n",
            "Epoch 81/100\n",
            "10/10 [==============================] - 0s 45ms/step - loss: 0.0018\n",
            "Epoch 82/100\n",
            "10/10 [==============================] - 0s 44ms/step - loss: 0.0017\n",
            "Epoch 83/100\n",
            "10/10 [==============================] - 0s 44ms/step - loss: 0.0017\n",
            "Epoch 84/100\n",
            "10/10 [==============================] - 0s 45ms/step - loss: 0.0017\n",
            "Epoch 85/100\n",
            "10/10 [==============================] - 0s 45ms/step - loss: 0.0017\n",
            "Epoch 86/100\n",
            "10/10 [==============================] - 0s 46ms/step - loss: 0.0016\n",
            "Epoch 87/100\n",
            "10/10 [==============================] - 0s 46ms/step - loss: 0.0016\n",
            "Epoch 88/100\n",
            "10/10 [==============================] - 0s 46ms/step - loss: 0.0016\n",
            "Epoch 89/100\n",
            "10/10 [==============================] - 0s 46ms/step - loss: 0.0016\n",
            "Epoch 90/100\n",
            "10/10 [==============================] - 0s 45ms/step - loss: 0.0015\n",
            "Epoch 91/100\n",
            "10/10 [==============================] - 0s 45ms/step - loss: 0.0015\n",
            "Epoch 92/100\n",
            "10/10 [==============================] - 0s 46ms/step - loss: 0.0015\n",
            "Epoch 93/100\n",
            "10/10 [==============================] - 0s 45ms/step - loss: 0.0015\n",
            "Epoch 94/100\n",
            "10/10 [==============================] - 0s 46ms/step - loss: 0.0014\n",
            "Epoch 95/100\n",
            "10/10 [==============================] - 0s 45ms/step - loss: 0.0014\n",
            "Epoch 96/100\n",
            "10/10 [==============================] - 0s 46ms/step - loss: 0.0014\n",
            "Epoch 97/100\n",
            "10/10 [==============================] - 0s 45ms/step - loss: 0.0014\n",
            "Epoch 98/100\n",
            "10/10 [==============================] - 0s 46ms/step - loss: 0.0013\n",
            "Epoch 99/100\n",
            "10/10 [==============================] - 0s 45ms/step - loss: 0.0013\n",
            "Epoch 100/100\n",
            "10/10 [==============================] - 0s 45ms/step - loss: 0.0013\n"
          ]
        },
        {
          "data": {
            "text/plain": [
              "<keras.callbacks.History at 0x280be9699a0>"
            ]
          },
          "execution_count": 60,
          "metadata": {},
          "output_type": "execute_result"
        }
      ],
      "source": [
        "\n",
        "model.fit(x_list,y_list,batch_size=100,epochs=100)"
      ]
    },
    {
      "cell_type": "code",
      "execution_count": 66,
      "metadata": {
        "colab": {
          "base_uri": "https://localhost:8080/",
          "height": 203
        },
        "id": "X5a70eRoJPH7",
        "outputId": "1a1fb6c5-02a4-4e05-9c4a-fe3f82b06917"
      },
      "outputs": [
        {
          "data": {
            "image/png": "[encoded data removed]",
            "text/plain": [
              "<Figure size 432x288 with 2 Axes>"
            ]
          },
          "metadata": {
            "needs_background": "light"
          },
          "output_type": "display_data"
        }
      ],
      "source": [
        "img, label = test_batch(10, img_shape[0], img_shape[1])\n",
        "show_batch(img,label)"
      ]
    },
    {
      "cell_type": "code",
      "execution_count": 67,
      "metadata": {},
      "outputs": [
        {
          "data": {
            "image/png": "[encoded data removed]",
            "text/plain": [
              "<Figure size 432x288 with 1 Axes>"
            ]
          },
          "metadata": {
            "needs_background": "light"
          },
          "output_type": "display_data"
        }
      ],
      "source": [
        "y_pred = model.predict(img)\n",
        "output1 = y_pred\n",
        "output1 = np.squeeze(output1)\n",
        "output1 = np.argmax(output1, axis=-1)\n",
        "plt.imshow(output1);plt.show()"
      ]
    },
    {
      "cell_type": "code",
      "execution_count": null,
      "metadata": {
        "colab": {
          "base_uri": "https://localhost:8080/",
          "height": 163
        },
        "id": "fjUnbsGiJo41",
        "outputId": "55d7d65b-1ce8-4c98-d668-a66087822d82"
      },
      "outputs": [
        {
          "data": {
            "text/plain": [
              "<tf.Tensor: shape=(1, 128, 128), dtype=float64, numpy=\n",
              "array([[[0., 0., 0., ..., 0., 0., 0.],\n",
              "        [0., 0., 0., ..., 0., 0., 0.],\n",
              "        [0., 0., 0., ..., 0., 0., 0.],\n",
              "        ...,\n",
              "        [0., 0., 1., ..., 0., 0., 0.],\n",
              "        [0., 0., 0., ..., 0., 0., 0.],\n",
              "        [0., 0., 0., ..., 0., 0., 0.]]])>"
            ]
          },
          "execution_count": 116,
          "metadata": {
            "tags": []
          },
          "output_type": "execute_result"
        }
      ],
      "source": [
        "loss_function(y_pred, label)"
      ]
    }
  ],
  "metadata": {
    "accelerator": "GPU",
    "colab": {
      "authorship_tag": "ABX9TyNBNIaIYSTFyYBG6P722YlG",
      "collapsed_sections": [],
      "include_colab_link": true,
      "name": "Circle Detection and Localization.ipynb",
      "provenance": []
    },
    "interpreter": {
      "hash": "1baa965d5efe3ac65b79dfc60c0d706280b1da80fedb7760faf2759126c4f253"
    },
    "kernelspec": {
      "display_name": "Python 3.8.10 64-bit",
      "name": "python3"
    },
    "language_info": {
      "codemirror_mode": {
        "name": "ipython",
        "version": 3
      },
      "file_extension": ".py",
      "mimetype": "text/x-python",
      "name": "python",
      "nbconvert_exporter": "python",
      "pygments_lexer": "ipython3",
      "version": "3.8.3"
    }
  },
  "nbformat": 4,
  "nbformat_minor": 2
}
